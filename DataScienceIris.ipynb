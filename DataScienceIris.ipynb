{
  "nbformat": 4,
  "nbformat_minor": 0,
  "metadata": {
    "colab": {
      "provenance": []
    },
    "kernelspec": {
      "name": "python3",
      "display_name": "Python 3"
    },
    "language_info": {
      "name": "python"
    }
  },
  "cells": [
    {
      "cell_type": "markdown",
      "source": [
        "#             **DATA SCIENCE EXERCISE**\n",
        "\n",
        "NAME: **AMANDA OFORI**\n",
        "\n",
        "COURSE: **BSC. COMPUTER SCIENCE**\n",
        "\n",
        "ROLL NUMBER: **10201100146**"
      ],
      "metadata": {
        "id": "xx-js7ghzKOG"
      }
    },
    {
      "cell_type": "code",
      "source": [
        "from sklearn import datasets\n",
        "from sklearn.manifold import TSNE\n",
        "import matplotlib.pyplot as plt"
      ],
      "metadata": {
        "id": "fTRwYiOxzK-j"
      },
      "execution_count": null,
      "outputs": []
    },
    {
      "cell_type": "code",
      "source": [
        "iris = datasets.load_iris()"
      ],
      "metadata": {
        "id": "ToMulggpzcgH"
      },
      "execution_count": null,
      "outputs": []
    },
    {
      "cell_type": "code",
      "source": [
        "X = iris.data\n",
        "y = iris.target"
      ],
      "metadata": {
        "id": "QqTkbOCSz1Sc"
      },
      "execution_count": null,
      "outputs": []
    },
    {
      "cell_type": "code",
      "source": [
        "tsne = TSNE(n_components=2, random_state=42)\n",
        "X_tsne = tsne.fit_transform(X)"
      ],
      "metadata": {
        "id": "oNB8gDzN0E4d"
      },
      "execution_count": null,
      "outputs": []
    },
    {
      "cell_type": "code",
      "source": [
        "plt.figure(figsize=(9,7))\n",
        "for i, c in zip(range(3), ['r', 'g', 'b']):\n",
        "  plt.scatter(X_tsne[y == i, 0], X_tsne[y== i, 1], c=c, label=iris.target_names[i])\n",
        "plt.xlabel('t-SNE Component 1')\n",
        "plt.ylabel('t-SNE Component 2')\n",
        "plt.title('t-SNE Visualization of Iris Dataset')\n",
        "plt.legend()\n",
        "plt.show()"
      ],
      "metadata": {
        "id": "q8IDz2bI0Lpy"
      },
      "execution_count": null,
      "outputs": []
    }
  ]
}