{
  "nbformat": 4,
  "nbformat_minor": 0,
  "metadata": {
    "colab": {
      "provenance": []
    },
    "kernelspec": {
      "name": "python3",
      "display_name": "Python 3"
    },
    "language_info": {
      "name": "python"
    }
  },
  "cells": [
    {
      "cell_type": "markdown",
      "source": [
        "#             **DATA SCIENCE EXERCISE**\n",
        "\n",
        "NAME: **AMANDA OFORI**\n",
        "\n",
        "COURSE: **BSC. COMPUTER SCIENCE**\n",
        "\n",
        "ROLL NUMBER: **10201100146**\n"
      ],
      "metadata": {
        "id": "RmBJ_Mk8mUbo"
      }
    },
    {
      "cell_type": "code",
      "source": [
        "import pandas as pd\n",
        "import numpy as np\n",
        "import matplotlib.pyplot as plt\n",
        "from sklearn import datasets\n",
        "from sklearn.cluster import KMeans\n",
        "import seaborn as sns"
      ],
      "metadata": {
        "id": "ofKro9yenbm_"
      },
      "execution_count": 1,
      "outputs": []
    },
    {
      "cell_type": "code",
      "source": [
        "iris = datasets.load_iris()"
      ],
      "metadata": {
        "id": "aSEdB1e_nnsO"
      },
      "execution_count": null,
      "outputs": []
    },
    {
      "cell_type": "code",
      "source": [
        "x = iris.data"
      ],
      "metadata": {
        "id": "pUZoLdU-ok5N"
      },
      "execution_count": null,
      "outputs": []
    },
    {
      "cell_type": "code",
      "source": [
        "x = iris.data[:, :2]"
      ],
      "metadata": {
        "id": "4DmkdMYnoqcp"
      },
      "execution_count": null,
      "outputs": []
    },
    {
      "cell_type": "code",
      "source": [
        "n_clusters = 3"
      ],
      "metadata": {
        "id": "H4sML7T5o8JG"
      },
      "execution_count": null,
      "outputs": []
    },
    {
      "cell_type": "code",
      "source": [
        "kmeans = KMeans(n_clusters=3, random_state=0)"
      ],
      "metadata": {
        "id": "F-6jPrjapAeH"
      },
      "execution_count": null,
      "outputs": []
    },
    {
      "cell_type": "code",
      "source": [
        "kmeans.fit(x)"
      ],
      "metadata": {
        "id": "cg0Dqy2hpFAg"
      },
      "execution_count": null,
      "outputs": []
    },
    {
      "cell_type": "code",
      "source": [
        "y_pred = kmeans.predict(x)"
      ],
      "metadata": {
        "id": "ouhB5zljpVTz"
      },
      "execution_count": null,
      "outputs": []
    },
    {
      "cell_type": "code",
      "source": [
        "plt.scatter(kmeans.cluster_centers_[:,0], kmeans.cluster_centers_[:,1], c='red', marker='x')\n",
        "plt.scatter(x[:, 0], x[:,1], c=y_pred, cmap='viridis')\n",
        "plt.xlabel(' Length')\n",
        "plt.ylabel('Width')\n",
        "plt.title(f'K-Means Clustering with {n_clusters} clusters')\n",
        "plt.show()"
      ],
      "metadata": {
        "id": "caf-bOXppatz"
      },
      "execution_count": null,
      "outputs": []
    }
  ]
}