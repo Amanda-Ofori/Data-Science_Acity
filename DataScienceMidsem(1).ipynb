{
  "nbformat": 4,
  "nbformat_minor": 0,
  "metadata": {
    "colab": {
      "provenance": []
    },
    "kernelspec": {
      "name": "python3",
      "display_name": "Python 3"
    },
    "language_info": {
      "name": "python"
    }
  },
  "cells": [
    {
      "cell_type": "markdown",
      "source": [
        "#             **DATA SCIENCE EXERCISE**\n",
        "\n",
        "NAME: **AMANDA OFORI**\n",
        "\n",
        "COURSE: **BSC. COMPUTER SCIENCE**\n",
        "\n",
        "ROLL NUMBER: **10201100146**"
      ],
      "metadata": {
        "id": "Gd2KqxIn0ssz"
      }
    },
    {
      "cell_type": "markdown",
      "source": [
        "**QUESTION 1**"
      ],
      "metadata": {
        "id": "mjyQIeyL06gq"
      }
    },
    {
      "cell_type": "code",
      "source": [
        "import pandas as pd\n",
        "import numpy as np\n",
        "import matplotlib.pyplot as plt\n",
        "import seaborn as sns\n",
        "from sklearn.model_selection import train_test_split\n",
        "from sklearn.preprocessing import StandardScaler\n",
        "from sklearn.linear_model import LogisticRegression\n",
        "from sklearn.metrics import accuracy_score, classification_report,␣\n",
        "↪confusion_matrix\n",
        "from sklearn.compose import ColumnTransformer\n",
        "from sklearn.pipeline import Pipeline\n",
        "from sklearn.impute import SimpleImputer\n",
        "from sklearn.preprocessing import StandardScaler, OneHotEncoder"
      ],
      "metadata": {
        "id": "Y-zP_oPB1BNt"
      },
      "execution_count": null,
      "outputs": []
    },
    {
      "cell_type": "markdown",
      "source": [
        "**QUESTION 2**"
      ],
      "metadata": {
        "id": "t2HAnW_u1CbY"
      }
    },
    {
      "cell_type": "code",
      "source": [
        "df = pd.read_csv('WA_Fn-UseC_-Telco-Customer-Churn.csv')\n",
        "print(df.head())"
      ],
      "metadata": {
        "id": "z3NAuEnH1G-g"
      },
      "execution_count": null,
      "outputs": []
    },
    {
      "cell_type": "markdown",
      "source": [
        "**QUESTION 3**"
      ],
      "metadata": {
        "id": "3mZoY1dB1RkZ"
      }
    },
    {
      "cell_type": "code",
      "source": [
        "number_of_observations, number_of_features = df.shape\n",
        "print(f\"Number of Features: {number_of_features}\")\n",
        "print(f\"Number of Observations: {number_of_observations}\")"
      ],
      "metadata": {
        "id": "ENW1G-us1ZTp"
      },
      "execution_count": null,
      "outputs": []
    },
    {
      "cell_type": "markdown",
      "source": [
        "**QUESTION 4**"
      ],
      "metadata": {
        "id": "7c-Xvxsw1guj"
      }
    },
    {
      "cell_type": "code",
      "source": [
        "missing_percentages = (df.isnull().sum() / len(df)) * 100\n",
        "print(\"Percentage of Missing Values in Each Column:\")\n",
        "print(missing_percentages)"
      ],
      "metadata": {
        "id": "soLlkFOJ1qZB"
      },
      "execution_count": null,
      "outputs": []
    },
    {
      "cell_type": "markdown",
      "source": [
        "**QUESTION 5**"
      ],
      "metadata": {
        "id": "4qk2FeJH14PO"
      }
    },
    {
      "cell_type": "code",
      "source": [
        "class_distribution = df['Churn'].value_counts(normalize=True) * 100\n",
        "print(\"Percentage of instances in each class of the dependent variable:\")\n",
        "print(class_distribution)"
      ],
      "metadata": {
        "id": "NFlPBXSN2BQS"
      },
      "execution_count": null,
      "outputs": []
    },
    {
      "cell_type": "markdown",
      "source": [
        "**QUESTION 6**"
      ],
      "metadata": {
        "id": "o0BuAknK2C6U"
      }
    },
    {
      "cell_type": "code",
      "source": [
        "# Outcome Distribution\n",
        "plt.figure(figsize=(8, 6))\n",
        "sns.countplot(x='Churn', data=df)\n",
        "plt.title('Churn Distribution')\n",
        "plt.show()\n",
        "# Monthly Charges vs. Total Charges\n",
        "plt.figure(figsize=(10, 6))\n",
        "sns.scatterplot(x='MonthlyCharges', y='TotalCharges', hue='Churn', data=df)\n",
        "plt.title('Monthly Charges vs. Total Charges')\n",
        "plt.show()\n",
        "# Categorical Features\n",
        "categorical_features = df.select_dtypes(include=['object']).columns\n",
        "for feature in categorical_features:\n",
        "plt.figure(figsize=(8, 6))\n",
        "sns.countplot(x=feature, hue='Churn', data=df)\n",
        "plt.title(f'{feature} Distribution by Churn')\n",
        "plt.show()\n",
        "# Numerical Features\n",
        "numerical_features = df.select_dtypes(include=['int64', 'float64']).columns\n",
        "for feature in numerical_features:\n",
        "plt.figure(figsize=(8, 6))\n",
        "sns.boxplot(x='Churn', y=feature, data=df)\n",
        "plt.title(f'{feature} Distribution by Churn')\n",
        "plt.show()"
      ],
      "metadata": {
        "id": "tPw0nR2F2JpG"
      },
      "execution_count": null,
      "outputs": []
    }
  ]
}